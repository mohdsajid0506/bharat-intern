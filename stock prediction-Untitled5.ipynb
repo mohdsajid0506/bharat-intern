{
  "nbformat": 4,
  "nbformat_minor": 0,
  "metadata": {
    "colab": {
      "provenance": [],
      "authorship_tag": "ABX9TyPQw0wPwwbIb2urWBlYOUIP",
      "include_colab_link": true
    },
    "kernelspec": {
      "name": "python3",
      "display_name": "Python 3"
    },
    "language_info": {
      "name": "python"
    }
  },
  "cells": [
    {
      "cell_type": "markdown",
      "metadata": {
        "id": "view-in-github",
        "colab_type": "text"
      },
      "source": [
        "<a href=\"https://colab.research.google.com/github/mohdsajid0506/bharat-intern/blob/main/stock%20prediction-Untitled5.ipynb\" target=\"_parent\"><img src=\"https://colab.research.google.com/assets/colab-badge.svg\" alt=\"Open In Colab\"/></a>"
      ]
    },
    {
      "cell_type": "code",
      "execution_count": 2,
      "metadata": {
        "id": "YAoeM8YE-RRi"
      },
      "outputs": [],
      "source": [
        "import pandas as pd\n",
        "import matplotlib.pyplot as plt\n",
        "import numpy as np\n",
        "import math\n",
        "import tensorflow as tf\n",
        "from numpy import array\n",
        "from tensorflow.keras.models import Sequential\n",
        "from tensorflow.keras.layers import LSTM, Dense, Dropout\n",
        "from sklearn.preprocessing import MinMaxScaler\n",
        "from sklearn.metrics import mean_squared_error"
      ]
    },
    {
      "cell_type": "code",
      "source": [
        "df = pd.read_csv('/content/BTC-USD.csv', index_col=\"Date\", infer_datetime_format=True, parse_dates=True)\n",
        "df.head(5)"
      ],
      "metadata": {
        "colab": {
          "base_uri": "https://localhost:8080/",
          "height": 237
        },
        "id": "2hVCX8gKD3bI",
        "outputId": "a6820c16-7b24-4cd7-f346-48b2838e80b1"
      },
      "execution_count": 4,
      "outputs": [
        {
          "output_type": "execute_result",
          "data": {
            "text/plain": [
              "                   Open         High          Low        Close    Adj Close  \\\n",
              "Date                                                                          \n",
              "2019-12-09  7561.795410  7618.091797  7365.985352  7400.899414  7400.899414   \n",
              "2019-12-10  7397.134277  7424.022949  7246.043945  7278.119629  7278.119629   \n",
              "2019-12-11  7277.197754  7324.156250  7195.527344  7217.427246  7217.427246   \n",
              "2019-12-12  7216.738770  7266.639648  7164.741211  7243.134277  7243.134277   \n",
              "2019-12-13  7244.662109  7293.560547  7227.122559  7269.684570  7269.684570   \n",
              "\n",
              "                 Volume  \n",
              "Date                     \n",
              "2019-12-09  17872021272  \n",
              "2019-12-10  18249031194  \n",
              "2019-12-11  16350490689  \n",
              "2019-12-12  18927080224  \n",
              "2019-12-13  17125736940  "
            ],
            "text/html": [
              "\n",
              "  <div id=\"df-98d2f8a1-a40e-4b51-bafd-84e15a32126a\" class=\"colab-df-container\">\n",
              "    <div>\n",
              "<style scoped>\n",
              "    .dataframe tbody tr th:only-of-type {\n",
              "        vertical-align: middle;\n",
              "    }\n",
              "\n",
              "    .dataframe tbody tr th {\n",
              "        vertical-align: top;\n",
              "    }\n",
              "\n",
              "    .dataframe thead th {\n",
              "        text-align: right;\n",
              "    }\n",
              "</style>\n",
              "<table border=\"1\" class=\"dataframe\">\n",
              "  <thead>\n",
              "    <tr style=\"text-align: right;\">\n",
              "      <th></th>\n",
              "      <th>Open</th>\n",
              "      <th>High</th>\n",
              "      <th>Low</th>\n",
              "      <th>Close</th>\n",
              "      <th>Adj Close</th>\n",
              "      <th>Volume</th>\n",
              "    </tr>\n",
              "    <tr>\n",
              "      <th>Date</th>\n",
              "      <th></th>\n",
              "      <th></th>\n",
              "      <th></th>\n",
              "      <th></th>\n",
              "      <th></th>\n",
              "      <th></th>\n",
              "    </tr>\n",
              "  </thead>\n",
              "  <tbody>\n",
              "    <tr>\n",
              "      <th>2019-12-09</th>\n",
              "      <td>7561.795410</td>\n",
              "      <td>7618.091797</td>\n",
              "      <td>7365.985352</td>\n",
              "      <td>7400.899414</td>\n",
              "      <td>7400.899414</td>\n",
              "      <td>17872021272</td>\n",
              "    </tr>\n",
              "    <tr>\n",
              "      <th>2019-12-10</th>\n",
              "      <td>7397.134277</td>\n",
              "      <td>7424.022949</td>\n",
              "      <td>7246.043945</td>\n",
              "      <td>7278.119629</td>\n",
              "      <td>7278.119629</td>\n",
              "      <td>18249031194</td>\n",
              "    </tr>\n",
              "    <tr>\n",
              "      <th>2019-12-11</th>\n",
              "      <td>7277.197754</td>\n",
              "      <td>7324.156250</td>\n",
              "      <td>7195.527344</td>\n",
              "      <td>7217.427246</td>\n",
              "      <td>7217.427246</td>\n",
              "      <td>16350490689</td>\n",
              "    </tr>\n",
              "    <tr>\n",
              "      <th>2019-12-12</th>\n",
              "      <td>7216.738770</td>\n",
              "      <td>7266.639648</td>\n",
              "      <td>7164.741211</td>\n",
              "      <td>7243.134277</td>\n",
              "      <td>7243.134277</td>\n",
              "      <td>18927080224</td>\n",
              "    </tr>\n",
              "    <tr>\n",
              "      <th>2019-12-13</th>\n",
              "      <td>7244.662109</td>\n",
              "      <td>7293.560547</td>\n",
              "      <td>7227.122559</td>\n",
              "      <td>7269.684570</td>\n",
              "      <td>7269.684570</td>\n",
              "      <td>17125736940</td>\n",
              "    </tr>\n",
              "  </tbody>\n",
              "</table>\n",
              "</div>\n",
              "    <div class=\"colab-df-buttons\">\n",
              "\n",
              "  <div class=\"colab-df-container\">\n",
              "    <button class=\"colab-df-convert\" onclick=\"convertToInteractive('df-98d2f8a1-a40e-4b51-bafd-84e15a32126a')\"\n",
              "            title=\"Convert this dataframe to an interactive table.\"\n",
              "            style=\"display:none;\">\n",
              "\n",
              "  <svg xmlns=\"http://www.w3.org/2000/svg\" height=\"24px\" viewBox=\"0 -960 960 960\">\n",
              "    <path d=\"M120-120v-720h720v720H120Zm60-500h600v-160H180v160Zm220 220h160v-160H400v160Zm0 220h160v-160H400v160ZM180-400h160v-160H180v160Zm440 0h160v-160H620v160ZM180-180h160v-160H180v160Zm440 0h160v-160H620v160Z\"/>\n",
              "  </svg>\n",
              "    </button>\n",
              "\n",
              "  <style>\n",
              "    .colab-df-container {\n",
              "      display:flex;\n",
              "      gap: 12px;\n",
              "    }\n",
              "\n",
              "    .colab-df-convert {\n",
              "      background-color: #E8F0FE;\n",
              "      border: none;\n",
              "      border-radius: 50%;\n",
              "      cursor: pointer;\n",
              "      display: none;\n",
              "      fill: #1967D2;\n",
              "      height: 32px;\n",
              "      padding: 0 0 0 0;\n",
              "      width: 32px;\n",
              "    }\n",
              "\n",
              "    .colab-df-convert:hover {\n",
              "      background-color: #E2EBFA;\n",
              "      box-shadow: 0px 1px 2px rgba(60, 64, 67, 0.3), 0px 1px 3px 1px rgba(60, 64, 67, 0.15);\n",
              "      fill: #174EA6;\n",
              "    }\n",
              "\n",
              "    .colab-df-buttons div {\n",
              "      margin-bottom: 4px;\n",
              "    }\n",
              "\n",
              "    [theme=dark] .colab-df-convert {\n",
              "      background-color: #3B4455;\n",
              "      fill: #D2E3FC;\n",
              "    }\n",
              "\n",
              "    [theme=dark] .colab-df-convert:hover {\n",
              "      background-color: #434B5C;\n",
              "      box-shadow: 0px 1px 3px 1px rgba(0, 0, 0, 0.15);\n",
              "      filter: drop-shadow(0px 1px 2px rgba(0, 0, 0, 0.3));\n",
              "      fill: #FFFFFF;\n",
              "    }\n",
              "  </style>\n",
              "\n",
              "    <script>\n",
              "      const buttonEl =\n",
              "        document.querySelector('#df-98d2f8a1-a40e-4b51-bafd-84e15a32126a button.colab-df-convert');\n",
              "      buttonEl.style.display =\n",
              "        google.colab.kernel.accessAllowed ? 'block' : 'none';\n",
              "\n",
              "      async function convertToInteractive(key) {\n",
              "        const element = document.querySelector('#df-98d2f8a1-a40e-4b51-bafd-84e15a32126a');\n",
              "        const dataTable =\n",
              "          await google.colab.kernel.invokeFunction('convertToInteractive',\n",
              "                                                    [key], {});\n",
              "        if (!dataTable) return;\n",
              "\n",
              "        const docLinkHtml = 'Like what you see? Visit the ' +\n",
              "          '<a target=\"_blank\" href=https://colab.research.google.com/notebooks/data_table.ipynb>data table notebook</a>'\n",
              "          + ' to learn more about interactive tables.';\n",
              "        element.innerHTML = '';\n",
              "        dataTable['output_type'] = 'display_data';\n",
              "        await google.colab.output.renderOutput(dataTable, element);\n",
              "        const docLink = document.createElement('div');\n",
              "        docLink.innerHTML = docLinkHtml;\n",
              "        element.appendChild(docLink);\n",
              "      }\n",
              "    </script>\n",
              "  </div>\n",
              "\n",
              "\n",
              "<div id=\"df-17dea87f-6ab6-4603-87e0-4f87af3125ea\">\n",
              "  <button class=\"colab-df-quickchart\" onclick=\"quickchart('df-17dea87f-6ab6-4603-87e0-4f87af3125ea')\"\n",
              "            title=\"Suggest charts.\"\n",
              "            style=\"display:none;\">\n",
              "\n",
              "<svg xmlns=\"http://www.w3.org/2000/svg\" height=\"24px\"viewBox=\"0 0 24 24\"\n",
              "     width=\"24px\">\n",
              "    <g>\n",
              "        <path d=\"M19 3H5c-1.1 0-2 .9-2 2v14c0 1.1.9 2 2 2h14c1.1 0 2-.9 2-2V5c0-1.1-.9-2-2-2zM9 17H7v-7h2v7zm4 0h-2V7h2v10zm4 0h-2v-4h2v4z\"/>\n",
              "    </g>\n",
              "</svg>\n",
              "  </button>\n",
              "\n",
              "<style>\n",
              "  .colab-df-quickchart {\n",
              "    background-color: #E8F0FE;\n",
              "    border: none;\n",
              "    border-radius: 50%;\n",
              "    cursor: pointer;\n",
              "    display: none;\n",
              "    fill: #1967D2;\n",
              "    height: 32px;\n",
              "    padding: 0 0 0 0;\n",
              "    width: 32px;\n",
              "  }\n",
              "\n",
              "  .colab-df-quickchart:hover {\n",
              "    background-color: #E2EBFA;\n",
              "    box-shadow: 0px 1px 2px rgba(60, 64, 67, 0.3), 0px 1px 3px 1px rgba(60, 64, 67, 0.15);\n",
              "    fill: #174EA6;\n",
              "  }\n",
              "\n",
              "  [theme=dark] .colab-df-quickchart {\n",
              "    background-color: #3B4455;\n",
              "    fill: #D2E3FC;\n",
              "  }\n",
              "\n",
              "  [theme=dark] .colab-df-quickchart:hover {\n",
              "    background-color: #434B5C;\n",
              "    box-shadow: 0px 1px 3px 1px rgba(0, 0, 0, 0.15);\n",
              "    filter: drop-shadow(0px 1px 2px rgba(0, 0, 0, 0.3));\n",
              "    fill: #FFFFFF;\n",
              "  }\n",
              "</style>\n",
              "\n",
              "  <script>\n",
              "    async function quickchart(key) {\n",
              "      const charts = await google.colab.kernel.invokeFunction(\n",
              "          'suggestCharts', [key], {});\n",
              "    }\n",
              "    (() => {\n",
              "      let quickchartButtonEl =\n",
              "        document.querySelector('#df-17dea87f-6ab6-4603-87e0-4f87af3125ea button');\n",
              "      quickchartButtonEl.style.display =\n",
              "        google.colab.kernel.accessAllowed ? 'block' : 'none';\n",
              "    })();\n",
              "  </script>\n",
              "</div>\n",
              "    </div>\n",
              "  </div>\n"
            ]
          },
          "metadata": {},
          "execution_count": 4
        }
      ]
    },
    {
      "cell_type": "code",
      "source": [
        "df = df.drop(['High','Low','Adj Close','Volume','Close'], axis=1)\n",
        "df.head()"
      ],
      "metadata": {
        "colab": {
          "base_uri": "https://localhost:8080/",
          "height": 237
        },
        "id": "L_MrrUrEEQ8Z",
        "outputId": "6c12d89f-eb3b-4075-f9d3-a54765b27546"
      },
      "execution_count": 5,
      "outputs": [
        {
          "output_type": "execute_result",
          "data": {
            "text/plain": [
              "                   Open\n",
              "Date                   \n",
              "2019-12-09  7561.795410\n",
              "2019-12-10  7397.134277\n",
              "2019-12-11  7277.197754\n",
              "2019-12-12  7216.738770\n",
              "2019-12-13  7244.662109"
            ],
            "text/html": [
              "\n",
              "  <div id=\"df-ebb85b2b-32a3-4a90-b289-3094e5e0d212\" class=\"colab-df-container\">\n",
              "    <div>\n",
              "<style scoped>\n",
              "    .dataframe tbody tr th:only-of-type {\n",
              "        vertical-align: middle;\n",
              "    }\n",
              "\n",
              "    .dataframe tbody tr th {\n",
              "        vertical-align: top;\n",
              "    }\n",
              "\n",
              "    .dataframe thead th {\n",
              "        text-align: right;\n",
              "    }\n",
              "</style>\n",
              "<table border=\"1\" class=\"dataframe\">\n",
              "  <thead>\n",
              "    <tr style=\"text-align: right;\">\n",
              "      <th></th>\n",
              "      <th>Open</th>\n",
              "    </tr>\n",
              "    <tr>\n",
              "      <th>Date</th>\n",
              "      <th></th>\n",
              "    </tr>\n",
              "  </thead>\n",
              "  <tbody>\n",
              "    <tr>\n",
              "      <th>2019-12-09</th>\n",
              "      <td>7561.795410</td>\n",
              "    </tr>\n",
              "    <tr>\n",
              "      <th>2019-12-10</th>\n",
              "      <td>7397.134277</td>\n",
              "    </tr>\n",
              "    <tr>\n",
              "      <th>2019-12-11</th>\n",
              "      <td>7277.197754</td>\n",
              "    </tr>\n",
              "    <tr>\n",
              "      <th>2019-12-12</th>\n",
              "      <td>7216.738770</td>\n",
              "    </tr>\n",
              "    <tr>\n",
              "      <th>2019-12-13</th>\n",
              "      <td>7244.662109</td>\n",
              "    </tr>\n",
              "  </tbody>\n",
              "</table>\n",
              "</div>\n",
              "    <div class=\"colab-df-buttons\">\n",
              "\n",
              "  <div class=\"colab-df-container\">\n",
              "    <button class=\"colab-df-convert\" onclick=\"convertToInteractive('df-ebb85b2b-32a3-4a90-b289-3094e5e0d212')\"\n",
              "            title=\"Convert this dataframe to an interactive table.\"\n",
              "            style=\"display:none;\">\n",
              "\n",
              "  <svg xmlns=\"http://www.w3.org/2000/svg\" height=\"24px\" viewBox=\"0 -960 960 960\">\n",
              "    <path d=\"M120-120v-720h720v720H120Zm60-500h600v-160H180v160Zm220 220h160v-160H400v160Zm0 220h160v-160H400v160ZM180-400h160v-160H180v160Zm440 0h160v-160H620v160ZM180-180h160v-160H180v160Zm440 0h160v-160H620v160Z\"/>\n",
              "  </svg>\n",
              "    </button>\n",
              "\n",
              "  <style>\n",
              "    .colab-df-container {\n",
              "      display:flex;\n",
              "      gap: 12px;\n",
              "    }\n",
              "\n",
              "    .colab-df-convert {\n",
              "      background-color: #E8F0FE;\n",
              "      border: none;\n",
              "      border-radius: 50%;\n",
              "      cursor: pointer;\n",
              "      display: none;\n",
              "      fill: #1967D2;\n",
              "      height: 32px;\n",
              "      padding: 0 0 0 0;\n",
              "      width: 32px;\n",
              "    }\n",
              "\n",
              "    .colab-df-convert:hover {\n",
              "      background-color: #E2EBFA;\n",
              "      box-shadow: 0px 1px 2px rgba(60, 64, 67, 0.3), 0px 1px 3px 1px rgba(60, 64, 67, 0.15);\n",
              "      fill: #174EA6;\n",
              "    }\n",
              "\n",
              "    .colab-df-buttons div {\n",
              "      margin-bottom: 4px;\n",
              "    }\n",
              "\n",
              "    [theme=dark] .colab-df-convert {\n",
              "      background-color: #3B4455;\n",
              "      fill: #D2E3FC;\n",
              "    }\n",
              "\n",
              "    [theme=dark] .colab-df-convert:hover {\n",
              "      background-color: #434B5C;\n",
              "      box-shadow: 0px 1px 3px 1px rgba(0, 0, 0, 0.15);\n",
              "      filter: drop-shadow(0px 1px 2px rgba(0, 0, 0, 0.3));\n",
              "      fill: #FFFFFF;\n",
              "    }\n",
              "  </style>\n",
              "\n",
              "    <script>\n",
              "      const buttonEl =\n",
              "        document.querySelector('#df-ebb85b2b-32a3-4a90-b289-3094e5e0d212 button.colab-df-convert');\n",
              "      buttonEl.style.display =\n",
              "        google.colab.kernel.accessAllowed ? 'block' : 'none';\n",
              "\n",
              "      async function convertToInteractive(key) {\n",
              "        const element = document.querySelector('#df-ebb85b2b-32a3-4a90-b289-3094e5e0d212');\n",
              "        const dataTable =\n",
              "          await google.colab.kernel.invokeFunction('convertToInteractive',\n",
              "                                                    [key], {});\n",
              "        if (!dataTable) return;\n",
              "\n",
              "        const docLinkHtml = 'Like what you see? Visit the ' +\n",
              "          '<a target=\"_blank\" href=https://colab.research.google.com/notebooks/data_table.ipynb>data table notebook</a>'\n",
              "          + ' to learn more about interactive tables.';\n",
              "        element.innerHTML = '';\n",
              "        dataTable['output_type'] = 'display_data';\n",
              "        await google.colab.output.renderOutput(dataTable, element);\n",
              "        const docLink = document.createElement('div');\n",
              "        docLink.innerHTML = docLinkHtml;\n",
              "        element.appendChild(docLink);\n",
              "      }\n",
              "    </script>\n",
              "  </div>\n",
              "\n",
              "\n",
              "<div id=\"df-1fb28abb-3391-488f-bc4a-7c16311a64b5\">\n",
              "  <button class=\"colab-df-quickchart\" onclick=\"quickchart('df-1fb28abb-3391-488f-bc4a-7c16311a64b5')\"\n",
              "            title=\"Suggest charts.\"\n",
              "            style=\"display:none;\">\n",
              "\n",
              "<svg xmlns=\"http://www.w3.org/2000/svg\" height=\"24px\"viewBox=\"0 0 24 24\"\n",
              "     width=\"24px\">\n",
              "    <g>\n",
              "        <path d=\"M19 3H5c-1.1 0-2 .9-2 2v14c0 1.1.9 2 2 2h14c1.1 0 2-.9 2-2V5c0-1.1-.9-2-2-2zM9 17H7v-7h2v7zm4 0h-2V7h2v10zm4 0h-2v-4h2v4z\"/>\n",
              "    </g>\n",
              "</svg>\n",
              "  </button>\n",
              "\n",
              "<style>\n",
              "  .colab-df-quickchart {\n",
              "    background-color: #E8F0FE;\n",
              "    border: none;\n",
              "    border-radius: 50%;\n",
              "    cursor: pointer;\n",
              "    display: none;\n",
              "    fill: #1967D2;\n",
              "    height: 32px;\n",
              "    padding: 0 0 0 0;\n",
              "    width: 32px;\n",
              "  }\n",
              "\n",
              "  .colab-df-quickchart:hover {\n",
              "    background-color: #E2EBFA;\n",
              "    box-shadow: 0px 1px 2px rgba(60, 64, 67, 0.3), 0px 1px 3px 1px rgba(60, 64, 67, 0.15);\n",
              "    fill: #174EA6;\n",
              "  }\n",
              "\n",
              "  [theme=dark] .colab-df-quickchart {\n",
              "    background-color: #3B4455;\n",
              "    fill: #D2E3FC;\n",
              "  }\n",
              "\n",
              "  [theme=dark] .colab-df-quickchart:hover {\n",
              "    background-color: #434B5C;\n",
              "    box-shadow: 0px 1px 3px 1px rgba(0, 0, 0, 0.15);\n",
              "    filter: drop-shadow(0px 1px 2px rgba(0, 0, 0, 0.3));\n",
              "    fill: #FFFFFF;\n",
              "  }\n",
              "</style>\n",
              "\n",
              "  <script>\n",
              "    async function quickchart(key) {\n",
              "      const charts = await google.colab.kernel.invokeFunction(\n",
              "          'suggestCharts', [key], {});\n",
              "    }\n",
              "    (() => {\n",
              "      let quickchartButtonEl =\n",
              "        document.querySelector('#df-1fb28abb-3391-488f-bc4a-7c16311a64b5 button');\n",
              "      quickchartButtonEl.style.display =\n",
              "        google.colab.kernel.accessAllowed ? 'block' : 'none';\n",
              "    })();\n",
              "  </script>\n",
              "</div>\n",
              "    </div>\n",
              "  </div>\n"
            ]
          },
          "metadata": {},
          "execution_count": 5
        }
      ]
    },
    {
      "cell_type": "code",
      "source": [
        "dataset = df.values\n",
        "dataset = dataset.astype('float64')\n",
        "dataset[:5]"
      ],
      "metadata": {
        "colab": {
          "base_uri": "https://localhost:8080/"
        },
        "id": "1vqoly6IEXPn",
        "outputId": "2b2ad32f-8e5c-4022-f72e-e4bcf5fee641"
      },
      "execution_count": 6,
      "outputs": [
        {
          "output_type": "execute_result",
          "data": {
            "text/plain": [
              "array([[7561.79541 ],\n",
              "       [7397.134277],\n",
              "       [7277.197754],\n",
              "       [7216.73877 ],\n",
              "       [7244.662109]])"
            ]
          },
          "metadata": {},
          "execution_count": 6
        }
      ]
    },
    {
      "cell_type": "code",
      "source": [
        "plt.plot(dataset)\n",
        "plt.show()"
      ],
      "metadata": {
        "colab": {
          "base_uri": "https://localhost:8080/",
          "height": 430
        },
        "id": "US4YEvc8Eaf5",
        "outputId": "e8b57847-6c84-43cd-dabf-fdaee67b28f0"
      },
      "execution_count": 7,
      "outputs": [
        {
          "output_type": "display_data",
          "data": {
            "text/plain": [
              "<Figure size 640x480 with 1 Axes>"
            ],
            "image/png": "[encoded data removed]"
          },
          "metadata": {}
        }
      ]
    },
    {
      "cell_type": "code",
      "source": [
        "scaler = MinMaxScaler(feature_range = (0,1))\n",
        "dataset = scaler.fit_transform(dataset)\n",
        "print(dataset[:5],'\\n')\n",
        "print(dataset.shape)"
      ],
      "metadata": {
        "colab": {
          "base_uri": "https://localhost:8080/"
        },
        "id": "flmnExc4Ec2N",
        "outputId": "db5ad90d-1017-4dd7-9ffd-badd357b1497"
      },
      "execution_count": 8,
      "outputs": [
        {
          "output_type": "stream",
          "name": "stdout",
          "text": [
            "[[0.17491517]\n",
            " [0.16366105]\n",
            " [0.15546373]\n",
            " [0.15133153]\n",
            " [0.15324001]] \n",
            "\n",
            "(367, 1)\n"
          ]
        }
      ]
    },
    {
      "cell_type": "code",
      "source": [
        "# lookback -> timestep\n",
        "def create_dataset(dataset,look_back):\n",
        "    data_x, data_y = [],[] #data_x is data and data_y is label\n",
        "    for i in range(len(dataset)-look_back-1): #we want if data be beyond len(sequendatasetce), the command will not continue\n",
        "        data_x.append(dataset[i:(i+look_back),0])\n",
        "        data_y.append(dataset[i+look_back,0])\n",
        "    return np.array(data_x) , np.array(data_y)"
      ],
      "metadata": {
        "id": "55TGRQENEfTT"
      },
      "execution_count": 9,
      "outputs": []
    },
    {
      "cell_type": "code",
      "source": [
        "train_size = int(len(dataset) * 0.90)\n",
        "train , test = dataset[0:train_size,:] , dataset[train_size:len(dataset),:]\n",
        "print(train.shape)\n",
        "print(test.shape)"
      ],
      "metadata": {
        "colab": {
          "base_uri": "https://localhost:8080/"
        },
        "id": "DVom-kvIEig9",
        "outputId": "dcc44b96-3845-4944-d277-199ee6eaa5e2"
      },
      "execution_count": 10,
      "outputs": [
        {
          "output_type": "stream",
          "name": "stdout",
          "text": [
            "(330, 1)\n",
            "(37, 1)\n"
          ]
        }
      ]
    },
    {
      "cell_type": "code",
      "source": [
        "train[:3]"
      ],
      "metadata": {
        "colab": {
          "base_uri": "https://localhost:8080/"
        },
        "id": "ATmGIJt6Ekza",
        "outputId": "b010af67-1ce0-4f4b-d1eb-f7ba2bfbe31f"
      },
      "execution_count": 11,
      "outputs": [
        {
          "output_type": "execute_result",
          "data": {
            "text/plain": [
              "array([[0.17491517],\n",
              "       [0.16366105],\n",
              "       [0.15546373]])"
            ]
          },
          "metadata": {},
          "execution_count": 11
        }
      ]
    },
    {
      "cell_type": "code",
      "source": [
        "n_steps = 5 #timestep or look_up\n",
        "\n",
        "train_x , train_y = create_dataset(train, n_steps)\n",
        "test_x , test_y = create_dataset(test, n_steps)"
      ],
      "metadata": {
        "id": "jEvuZV_JEqa4"
      },
      "execution_count": 12,
      "outputs": []
    },
    {
      "cell_type": "code",
      "source": [
        "print(train_x.shape , train_y.shape)\n",
        "print(test_x.shape , test_y.shape)"
      ],
      "metadata": {
        "colab": {
          "base_uri": "https://localhost:8080/"
        },
        "id": "UPkR-wZwEtXb",
        "outputId": "5347f4fb-7fdd-4485-a611-f28b54c702e7"
      },
      "execution_count": 13,
      "outputs": [
        {
          "output_type": "stream",
          "name": "stdout",
          "text": [
            "(324, 5) (324,)\n",
            "(31, 5) (31,)\n"
          ]
        }
      ]
    },
    {
      "cell_type": "code",
      "source": [
        "train_y[:3]"
      ],
      "metadata": {
        "colab": {
          "base_uri": "https://localhost:8080/"
        },
        "id": "v39C3i8EEwN9",
        "outputId": "fa519336-2f8a-4672-b250-b07824f8d48a"
      },
      "execution_count": 14,
      "outputs": [
        {
          "output_type": "execute_result",
          "data": {
            "text/plain": [
              "array([0.1548968 , 0.14500949, 0.14702049])"
            ]
          },
          "metadata": {},
          "execution_count": 14
        }
      ]
    },
    {
      "cell_type": "code",
      "source": [
        "for i in range(len(test_x)):\n",
        "    print(test_x[i],test_y[i])\n",
        "\n",
        "# print(train_x[:5],'\\n')\n",
        "# print(train_y[:5])"
      ],
      "metadata": {
        "colab": {
          "base_uri": "https://localhost:8080/"
        },
        "id": "pHGBJRRkEyMX",
        "outputId": "094a3c91-66a6-425c-b1ff-289e80de8b35"
      },
      "execution_count": 15,
      "outputs": [
        {
          "output_type": "stream",
          "name": "stdout",
          "text": [
            "[0.58422262 0.61156401 0.62408829 0.72291798 0.72197147] 0.6719326887466186\n",
            "[0.61156401 0.62408829 0.72291798 0.72197147 0.67193269] 0.7160741246063909\n",
            "[0.62408829 0.72291798 0.72197147 0.67193269 0.71607412] 0.7060103428599764\n",
            "[0.72291798 0.72197147 0.67193269 0.71607412 0.70601034] 0.7031779415298287\n",
            "[0.72197147 0.67193269 0.71607412 0.70601034 0.70317794] 0.7312268978049619\n",
            "[0.67193269 0.71607412 0.70601034 0.70317794 0.7312269 ] 0.7705361779613369\n",
            "[0.71607412 0.70601034 0.70317794 0.7312269  0.77053618] 0.7733635734106943\n",
            "[0.70601034 0.70317794 0.7312269  0.77053618 0.77336357] 0.7562994164960621\n",
            "[0.70317794 0.7312269  0.77053618 0.77336357 0.75629942] 0.7486060922221522\n",
            "[0.7312269  0.77053618 0.77336357 0.75629942 0.74860609] 0.7985073092686736\n",
            "[0.77053618 0.77336357 0.75629942 0.74860609 0.79850731] 0.8640863843675424\n",
            "[0.77336357 0.75629942 0.74860609 0.79850731 0.86408638] 0.8749310187925237\n",
            "[0.75629942 0.74860609 0.79850731 0.86408638 0.87493102] 0.8758347494343481\n",
            "[0.74860609 0.79850731 0.86408638 0.87493102 0.87583475] 0.9308017305696097\n",
            "[0.79850731 0.86408638 0.87493102 0.87583475 0.93080173] 0.9322312803184716\n",
            "[0.86408638 0.87493102 0.87583475 0.93080173 0.93223128] 0.9136261758914752\n",
            "[0.87493102 0.87583475 0.93080173 0.93223128 0.91362618] 0.9132843067393879\n",
            "[0.87583475 0.93080173 0.93223128 0.91362618 0.91328431] 0.9638198038484467\n",
            "[0.93080173 0.93223128 0.91362618 0.91328431 0.9638198 ] 0.9382189965316621\n",
            "[0.93223128 0.91362618 0.91328431 0.9638198  0.938219  ] 0.8305089859611121\n",
            "[0.91362618 0.91328431 0.9638198  0.938219   0.83050899] 0.8277080883538812\n",
            "[0.91328431 0.9638198  0.938219   0.83050899 0.82770809] 0.8691743746708795\n",
            "[0.9638198  0.938219   0.83050899 0.82770809 0.86917437] 0.9005243507098712\n",
            "[0.938219   0.83050899 0.82770809 0.86917437 0.90052435] 1.0\n",
            "[0.83050899 0.82770809 0.86917437 0.90052435 1.        ] 0.9431334491558354\n",
            "[0.82770809 0.86917437 0.90052435 1.         0.94313345] 0.9707581058761525\n",
            "[0.86917437 0.90052435 1.         0.94313345 0.97075811] 0.9872325685026992\n",
            "[0.90052435 1.         0.94313345 0.97075811 0.98723257] 0.9360691320997676\n",
            "[1.         0.94313345 0.97075811 0.98723257 0.93606913] 0.9672214087225097\n",
            "[0.94313345 0.97075811 0.98723257 0.93606913 0.96722141] 0.9801355462494454\n",
            "[0.97075811 0.98723257 0.93606913 0.96722141 0.98013555] 0.9697741474546875\n"
          ]
        }
      ]
    },
    {
      "cell_type": "code",
      "source": [
        "trainxr = np.reshape(train_x,(train_x.shape[0],train_x.shape[1],1))\n",
        "testxr = np.reshape(test_x,(test_x.shape[0],test_x.shape[1],1))\n",
        "\n",
        "print(trainxr.shape)\n",
        "print(testxr.shape)"
      ],
      "metadata": {
        "colab": {
          "base_uri": "https://localhost:8080/"
        },
        "id": "2nBGtKKME0rd",
        "outputId": "90399c95-8f9a-44f5-98c3-33c700e8873b"
      },
      "execution_count": 16,
      "outputs": [
        {
          "output_type": "stream",
          "name": "stdout",
          "text": [
            "(324, 5, 1)\n",
            "(31, 5, 1)\n"
          ]
        }
      ]
    },
    {
      "cell_type": "code",
      "source": [
        "train_x = trainxr\n",
        "test_x = testxr"
      ],
      "metadata": {
        "id": "CpFK9teyE3DO"
      },
      "execution_count": 17,
      "outputs": []
    },
    {
      "cell_type": "code",
      "source": [
        "'''\n",
        "from keras.optimizers import Adam\n",
        "learning_rate = 0.0001\n",
        "optimizer = Adam(learning_rate=learning_rate)\n",
        "'''"
      ],
      "metadata": {
        "colab": {
          "base_uri": "https://localhost:8080/",
          "height": 36
        },
        "id": "-9F1V3fmE5by",
        "outputId": "4058d612-7a83-47ee-bf96-6343fd355ff5"
      },
      "execution_count": 18,
      "outputs": [
        {
          "output_type": "execute_result",
          "data": {
            "text/plain": [
              "'\\nfrom keras.optimizers import Adam\\nlearning_rate = 0.0001\\noptimizer = Adam(learning_rate=learning_rate)\\n'"
            ],
            "application/vnd.google.colaboratory.intrinsic+json": {
              "type": "string"
            }
          },
          "metadata": {},
          "execution_count": 18
        }
      ]
    },
    {
      "cell_type": "code",
      "source": [
        "'''\n",
        "from keras.optimizers import Adam\n",
        "learning_rate = 0.0001\n",
        "optimizer = Adam(learning_rate=learning_rate)\n",
        "'''\n",
        "\n",
        "\n",
        "n_features = 1\n",
        "model = Sequential()\n",
        "model.add(LSTM(100, activation = 'relu', input_shape=(n_steps, n_features)))\n",
        "model.add(Dense(1)) #n-output\n",
        "model.compile(optimizer='adam',loss='mse')"
      ],
      "metadata": {
        "id": "4IdEtQx7E8dN"
      },
      "execution_count": 19,
      "outputs": []
    },
    {
      "cell_type": "code",
      "source": [
        "model.fit(train_x, train_y, epochs=50, shuffle=False, batch_size=2)"
      ],
      "metadata": {
        "colab": {
          "base_uri": "https://localhost:8080/"
        },
        "id": "SOso-vbeFCL6",
        "outputId": "dd40f903-eaa8-40e7-976a-c216c921db97"
      },
      "execution_count": 20,
      "outputs": [
        {
          "output_type": "stream",
          "name": "stdout",
          "text": [
            "Epoch 1/50\n",
            "162/162 [==============================] - 3s 4ms/step - loss: 0.0040\n",
            "Epoch 2/50\n",
            "162/162 [==============================] - 1s 4ms/step - loss: 0.0050\n",
            "Epoch 3/50\n",
            "162/162 [==============================] - 1s 7ms/step - loss: 0.0034\n",
            "Epoch 4/50\n",
            "162/162 [==============================] - 1s 6ms/step - loss: 0.0024\n",
            "Epoch 5/50\n",
            "162/162 [==============================] - 1s 4ms/step - loss: 0.0019\n",
            "Epoch 6/50\n",
            "162/162 [==============================] - 1s 4ms/step - loss: 0.0016\n",
            "Epoch 7/50\n",
            "162/162 [==============================] - 1s 4ms/step - loss: 0.0015\n",
            "Epoch 8/50\n",
            "162/162 [==============================] - 1s 4ms/step - loss: 0.0015\n",
            "Epoch 9/50\n",
            "162/162 [==============================] - 1s 4ms/step - loss: 0.0014\n",
            "Epoch 10/50\n",
            "162/162 [==============================] - 1s 4ms/step - loss: 0.0012\n",
            "Epoch 11/50\n",
            "162/162 [==============================] - 1s 4ms/step - loss: 0.0014\n",
            "Epoch 12/50\n",
            "162/162 [==============================] - 1s 4ms/step - loss: 0.0016\n",
            "Epoch 13/50\n",
            "162/162 [==============================] - 1s 4ms/step - loss: 0.0014\n",
            "Epoch 14/50\n",
            "162/162 [==============================] - 1s 6ms/step - loss: 0.0012\n",
            "Epoch 15/50\n",
            "162/162 [==============================] - 1s 6ms/step - loss: 0.0011\n",
            "Epoch 16/50\n",
            "162/162 [==============================] - 1s 5ms/step - loss: 0.0011\n",
            "Epoch 17/50\n",
            "162/162 [==============================] - 1s 4ms/step - loss: 0.0010\n",
            "Epoch 18/50\n",
            "162/162 [==============================] - 1s 4ms/step - loss: 0.0010\n",
            "Epoch 19/50\n",
            "162/162 [==============================] - 1s 4ms/step - loss: 9.8889e-04\n",
            "Epoch 20/50\n",
            "162/162 [==============================] - 1s 4ms/step - loss: 9.8106e-04\n",
            "Epoch 21/50\n",
            "162/162 [==============================] - 1s 4ms/step - loss: 9.6436e-04\n",
            "Epoch 22/50\n",
            "162/162 [==============================] - 1s 4ms/step - loss: 9.5404e-04\n",
            "Epoch 23/50\n",
            "162/162 [==============================] - 1s 6ms/step - loss: 9.1811e-04\n",
            "Epoch 24/50\n",
            "162/162 [==============================] - 1s 4ms/step - loss: 8.4902e-04\n",
            "Epoch 25/50\n",
            "162/162 [==============================] - 1s 4ms/step - loss: 8.5486e-04\n",
            "Epoch 26/50\n",
            "162/162 [==============================] - 1s 4ms/step - loss: 8.6289e-04\n",
            "Epoch 27/50\n",
            "162/162 [==============================] - 1s 4ms/step - loss: 8.2101e-04\n",
            "Epoch 28/50\n",
            "162/162 [==============================] - 1s 4ms/step - loss: 8.1568e-04\n",
            "Epoch 29/50\n",
            "162/162 [==============================] - 1s 4ms/step - loss: 7.9577e-04\n",
            "Epoch 30/50\n",
            "162/162 [==============================] - 1s 4ms/step - loss: 7.8172e-04\n",
            "Epoch 31/50\n",
            "162/162 [==============================] - 1s 4ms/step - loss: 7.5142e-04\n",
            "Epoch 32/50\n",
            "162/162 [==============================] - 1s 4ms/step - loss: 7.5042e-04\n",
            "Epoch 33/50\n",
            "162/162 [==============================] - 1s 5ms/step - loss: 7.4427e-04\n",
            "Epoch 34/50\n",
            "162/162 [==============================] - 1s 5ms/step - loss: 7.3710e-04\n",
            "Epoch 35/50\n",
            "162/162 [==============================] - 1s 6ms/step - loss: 7.1041e-04\n",
            "Epoch 36/50\n",
            "162/162 [==============================] - 1s 4ms/step - loss: 7.0995e-04\n",
            "Epoch 37/50\n",
            "162/162 [==============================] - 1s 4ms/step - loss: 7.2170e-04\n",
            "Epoch 38/50\n",
            "162/162 [==============================] - 1s 4ms/step - loss: 7.0434e-04\n",
            "Epoch 39/50\n",
            "162/162 [==============================] - 1s 4ms/step - loss: 6.9695e-04\n",
            "Epoch 40/50\n",
            "162/162 [==============================] - 1s 4ms/step - loss: 6.8081e-04\n",
            "Epoch 41/50\n",
            "162/162 [==============================] - 1s 4ms/step - loss: 6.7744e-04\n",
            "Epoch 42/50\n",
            "162/162 [==============================] - 1s 4ms/step - loss: 6.5205e-04\n",
            "Epoch 43/50\n",
            "162/162 [==============================] - 1s 4ms/step - loss: 6.4464e-04\n",
            "Epoch 44/50\n",
            "162/162 [==============================] - 1s 4ms/step - loss: 6.3887e-04\n",
            "Epoch 45/50\n",
            "162/162 [==============================] - 1s 4ms/step - loss: 6.3876e-04\n",
            "Epoch 46/50\n",
            "162/162 [==============================] - 1s 4ms/step - loss: 6.3834e-04\n",
            "Epoch 47/50\n",
            "162/162 [==============================] - 1s 4ms/step - loss: 6.3227e-04\n",
            "Epoch 48/50\n",
            "162/162 [==============================] - 1s 4ms/step - loss: 6.3504e-04\n",
            "Epoch 49/50\n",
            "162/162 [==============================] - 1s 4ms/step - loss: 6.2964e-04\n",
            "Epoch 50/50\n",
            "162/162 [==============================] - 1s 4ms/step - loss: 6.2808e-04\n"
          ]
        },
        {
          "output_type": "execute_result",
          "data": {
            "text/plain": [
              "<keras.callbacks.History at 0x7d85c2657fa0>"
            ]
          },
          "metadata": {},
          "execution_count": 20
        }
      ]
    },
    {
      "cell_type": "code",
      "source": [
        "model.save('/content/drive/MyDrive/savedata')"
      ],
      "metadata": {
        "colab": {
          "base_uri": "https://localhost:8080/"
        },
        "id": "orXUIl6SFFNm",
        "outputId": "79d28a7d-44ca-4b6d-e739-84eba3f2b6ad"
      },
      "execution_count": 21,
      "outputs": [
        {
          "output_type": "stream",
          "name": "stderr",
          "text": [
            "WARNING:absl:Found untraced functions such as _update_step_xla while saving (showing 1 of 1). These functions will not be directly callable after loading.\n"
          ]
        }
      ]
    },
    {
      "cell_type": "code",
      "source": [
        "new_model = tf.keras.models.load_model('/content/drive/MyDrive/savedata')"
      ],
      "metadata": {
        "id": "79b9fm8JFSLc"
      },
      "execution_count": 22,
      "outputs": []
    },
    {
      "cell_type": "code",
      "source": [
        "predict_train = new_model.predict(train_x)\n",
        "predict_test = new_model.predict(test_x)\n",
        "print('predicted y(train):', np.reshape(predict_train[:5],-1))\n",
        "print('real y(train):', train_y[:5])"
      ],
      "metadata": {
        "colab": {
          "base_uri": "https://localhost:8080/"
        },
        "id": "vqRI6yZ7FY6o",
        "outputId": "39c28e67-ab2d-4240-f2d6-63f082506b5d"
      },
      "execution_count": 23,
      "outputs": [
        {
          "output_type": "stream",
          "name": "stdout",
          "text": [
            "11/11 [==============================] - 0s 6ms/step\n",
            "1/1 [==============================] - 0s 71ms/step\n",
            "predicted y(train): [0.19935045 0.20128483 0.19337782 0.19349088 0.18177408]\n",
            "real y(train): [0.1548968  0.14500949 0.14702049 0.13182367 0.11243925]\n"
          ]
        }
      ]
    },
    {
      "cell_type": "code",
      "source": [
        "predict_train = scaler.inverse_transform(predict_train)\n",
        "trainy = scaler.inverse_transform([train_y])\n",
        "\n",
        "predict_test = scaler.inverse_transform(predict_test)\n",
        "testy = scaler.inverse_transform([test_y])"
      ],
      "metadata": {
        "id": "baNNTqB0FbUV"
      },
      "execution_count": 24,
      "outputs": []
    },
    {
      "cell_type": "code",
      "source": [
        "print(predict_train[:5])"
      ],
      "metadata": {
        "colab": {
          "base_uri": "https://localhost:8080/"
        },
        "id": "a73UA530Fds2",
        "outputId": "69e9f2e6-8c79-4d61-e192-ea7a032567da"
      },
      "execution_count": 25,
      "outputs": [
        {
          "output_type": "stream",
          "name": "stdout",
          "text": [
            "[[7919.3125]\n",
            " [7947.6147]\n",
            " [7831.9263]\n",
            " [7833.5806]\n",
            " [7662.149 ]]\n"
          ]
        }
      ]
    },
    {
      "cell_type": "code",
      "source": [
        "Answer1 = pd.DataFrame({\n",
        "    \"Predicted\": predict_train.ravel(),\n",
        "    \"real\": trainy.ravel()\n",
        "})\n",
        "Answer1.head()"
      ],
      "metadata": {
        "colab": {
          "base_uri": "https://localhost:8080/",
          "height": 206
        },
        "id": "4gfhNTa-FgEl",
        "outputId": "b69a8f5b-c3a9-4e68-b4af-f5399768a846"
      },
      "execution_count": 26,
      "outputs": [
        {
          "output_type": "execute_result",
          "data": {
            "text/plain": [
              "     Predicted         real\n",
              "0  7919.312500  7268.902832\n",
              "1  7947.614746  7124.239746\n",
              "2  7831.926270  7153.663086\n",
              "3  7833.580566  6931.315430\n",
              "4  7662.148926  6647.698242"
            ],
            "text/html": [
              "\n",
              "  <div id=\"df-cd35c220-8eea-4193-8bdd-5661df4df5ba\" class=\"colab-df-container\">\n",
              "    <div>\n",
              "<style scoped>\n",
              "    .dataframe tbody tr th:only-of-type {\n",
              "        vertical-align: middle;\n",
              "    }\n",
              "\n",
              "    .dataframe tbody tr th {\n",
              "        vertical-align: top;\n",
              "    }\n",
              "\n",
              "    .dataframe thead th {\n",
              "        text-align: right;\n",
              "    }\n",
              "</style>\n",
              "<table border=\"1\" class=\"dataframe\">\n",
              "  <thead>\n",
              "    <tr style=\"text-align: right;\">\n",
              "      <th></th>\n",
              "      <th>Predicted</th>\n",
              "      <th>real</th>\n",
              "    </tr>\n",
              "  </thead>\n",
              "  <tbody>\n",
              "    <tr>\n",
              "      <th>0</th>\n",
              "      <td>7919.312500</td>\n",
              "      <td>7268.902832</td>\n",
              "    </tr>\n",
              "    <tr>\n",
              "      <th>1</th>\n",
              "      <td>7947.614746</td>\n",
              "      <td>7124.239746</td>\n",
              "    </tr>\n",
              "    <tr>\n",
              "      <th>2</th>\n",
              "      <td>7831.926270</td>\n",
              "      <td>7153.663086</td>\n",
              "    </tr>\n",
              "    <tr>\n",
              "      <th>3</th>\n",
              "      <td>7833.580566</td>\n",
              "      <td>6931.315430</td>\n",
              "    </tr>\n",
              "    <tr>\n",
              "      <th>4</th>\n",
              "      <td>7662.148926</td>\n",
              "      <td>6647.698242</td>\n",
              "    </tr>\n",
              "  </tbody>\n",
              "</table>\n",
              "</div>\n",
              "    <div class=\"colab-df-buttons\">\n",
              "\n",
              "  <div class=\"colab-df-container\">\n",
              "    <button class=\"colab-df-convert\" onclick=\"convertToInteractive('df-cd35c220-8eea-4193-8bdd-5661df4df5ba')\"\n",
              "            title=\"Convert this dataframe to an interactive table.\"\n",
              "            style=\"display:none;\">\n",
              "\n",
              "  <svg xmlns=\"http://www.w3.org/2000/svg\" height=\"24px\" viewBox=\"0 -960 960 960\">\n",
              "    <path d=\"M120-120v-720h720v720H120Zm60-500h600v-160H180v160Zm220 220h160v-160H400v160Zm0 220h160v-160H400v160ZM180-400h160v-160H180v160Zm440 0h160v-160H620v160ZM180-180h160v-160H180v160Zm440 0h160v-160H620v160Z\"/>\n",
              "  </svg>\n",
              "    </button>\n",
              "\n",
              "  <style>\n",
              "    .colab-df-container {\n",
              "      display:flex;\n",
              "      gap: 12px;\n",
              "    }\n",
              "\n",
              "    .colab-df-convert {\n",
              "      background-color: #E8F0FE;\n",
              "      border: none;\n",
              "      border-radius: 50%;\n",
              "      cursor: pointer;\n",
              "      display: none;\n",
              "      fill: #1967D2;\n",
              "      height: 32px;\n",
              "      padding: 0 0 0 0;\n",
              "      width: 32px;\n",
              "    }\n",
              "\n",
              "    .colab-df-convert:hover {\n",
              "      background-color: #E2EBFA;\n",
              "      box-shadow: 0px 1px 2px rgba(60, 64, 67, 0.3), 0px 1px 3px 1px rgba(60, 64, 67, 0.15);\n",
              "      fill: #174EA6;\n",
              "    }\n",
              "\n",
              "    .colab-df-buttons div {\n",
              "      margin-bottom: 4px;\n",
              "    }\n",
              "\n",
              "    [theme=dark] .colab-df-convert {\n",
              "      background-color: #3B4455;\n",
              "      fill: #D2E3FC;\n",
              "    }\n",
              "\n",
              "    [theme=dark] .colab-df-convert:hover {\n",
              "      background-color: #434B5C;\n",
              "      box-shadow: 0px 1px 3px 1px rgba(0, 0, 0, 0.15);\n",
              "      filter: drop-shadow(0px 1px 2px rgba(0, 0, 0, 0.3));\n",
              "      fill: #FFFFFF;\n",
              "    }\n",
              "  </style>\n",
              "\n",
              "    <script>\n",
              "      const buttonEl =\n",
              "        document.querySelector('#df-cd35c220-8eea-4193-8bdd-5661df4df5ba button.colab-df-convert');\n",
              "      buttonEl.style.display =\n",
              "        google.colab.kernel.accessAllowed ? 'block' : 'none';\n",
              "\n",
              "      async function convertToInteractive(key) {\n",
              "        const element = document.querySelector('#df-cd35c220-8eea-4193-8bdd-5661df4df5ba');\n",
              "        const dataTable =\n",
              "          await google.colab.kernel.invokeFunction('convertToInteractive',\n",
              "                                                    [key], {});\n",
              "        if (!dataTable) return;\n",
              "\n",
              "        const docLinkHtml = 'Like what you see? Visit the ' +\n",
              "          '<a target=\"_blank\" href=https://colab.research.google.com/notebooks/data_table.ipynb>data table notebook</a>'\n",
              "          + ' to learn more about interactive tables.';\n",
              "        element.innerHTML = '';\n",
              "        dataTable['output_type'] = 'display_data';\n",
              "        await google.colab.output.renderOutput(dataTable, element);\n",
              "        const docLink = document.createElement('div');\n",
              "        docLink.innerHTML = docLinkHtml;\n",
              "        element.appendChild(docLink);\n",
              "      }\n",
              "    </script>\n",
              "  </div>\n",
              "\n",
              "\n",
              "<div id=\"df-0dcd487a-8496-4243-b249-e25926f82e15\">\n",
              "  <button class=\"colab-df-quickchart\" onclick=\"quickchart('df-0dcd487a-8496-4243-b249-e25926f82e15')\"\n",
              "            title=\"Suggest charts.\"\n",
              "            style=\"display:none;\">\n",
              "\n",
              "<svg xmlns=\"http://www.w3.org/2000/svg\" height=\"24px\"viewBox=\"0 0 24 24\"\n",
              "     width=\"24px\">\n",
              "    <g>\n",
              "        <path d=\"M19 3H5c-1.1 0-2 .9-2 2v14c0 1.1.9 2 2 2h14c1.1 0 2-.9 2-2V5c0-1.1-.9-2-2-2zM9 17H7v-7h2v7zm4 0h-2V7h2v10zm4 0h-2v-4h2v4z\"/>\n",
              "    </g>\n",
              "</svg>\n",
              "  </button>\n",
              "\n",
              "<style>\n",
              "  .colab-df-quickchart {\n",
              "    background-color: #E8F0FE;\n",
              "    border: none;\n",
              "    border-radius: 50%;\n",
              "    cursor: pointer;\n",
              "    display: none;\n",
              "    fill: #1967D2;\n",
              "    height: 32px;\n",
              "    padding: 0 0 0 0;\n",
              "    width: 32px;\n",
              "  }\n",
              "\n",
              "  .colab-df-quickchart:hover {\n",
              "    background-color: #E2EBFA;\n",
              "    box-shadow: 0px 1px 2px rgba(60, 64, 67, 0.3), 0px 1px 3px 1px rgba(60, 64, 67, 0.15);\n",
              "    fill: #174EA6;\n",
              "  }\n",
              "\n",
              "  [theme=dark] .colab-df-quickchart {\n",
              "    background-color: #3B4455;\n",
              "    fill: #D2E3FC;\n",
              "  }\n",
              "\n",
              "  [theme=dark] .colab-df-quickchart:hover {\n",
              "    background-color: #434B5C;\n",
              "    box-shadow: 0px 1px 3px 1px rgba(0, 0, 0, 0.15);\n",
              "    filter: drop-shadow(0px 1px 2px rgba(0, 0, 0, 0.3));\n",
              "    fill: #FFFFFF;\n",
              "  }\n",
              "</style>\n",
              "\n",
              "  <script>\n",
              "    async function quickchart(key) {\n",
              "      const charts = await google.colab.kernel.invokeFunction(\n",
              "          'suggestCharts', [key], {});\n",
              "    }\n",
              "    (() => {\n",
              "      let quickchartButtonEl =\n",
              "        document.querySelector('#df-0dcd487a-8496-4243-b249-e25926f82e15 button');\n",
              "      quickchartButtonEl.style.display =\n",
              "        google.colab.kernel.accessAllowed ? 'block' : 'none';\n",
              "    })();\n",
              "  </script>\n",
              "</div>\n",
              "    </div>\n",
              "  </div>\n"
            ]
          },
          "metadata": {},
          "execution_count": 26
        }
      ]
    },
    {
      "cell_type": "code",
      "source": [
        "Answer1.plot(title=\"outcome\", figsize=(10,5));"
      ],
      "metadata": {
        "colab": {
          "base_uri": "https://localhost:8080/",
          "height": 468
        },
        "id": "eBzOEVtHFifD",
        "outputId": "2c9c1a5e-d5cc-4d06-c1c1-d4dfb1aa019f"
      },
      "execution_count": 27,
      "outputs": [
        {
          "output_type": "display_data",
          "data": {
            "text/plain": [
              "<Figure size 1000x500 with 1 Axes>"
            ],
            "image/png": "[encoded data removed]"
          },
          "metadata": {}
        }
      ]
    },
    {
      "cell_type": "code",
      "source": [
        "Answer2 = pd.DataFrame({\n",
        "    \"Predicted\": predict_test.ravel(),\n",
        "    \"real\": testy.ravel()\n",
        "})\n",
        "Answer2.head()"
      ],
      "metadata": {
        "colab": {
          "base_uri": "https://localhost:8080/",
          "height": 206
        },
        "id": "71h4uoB6FlzC",
        "outputId": "de7d2a2d-b1e6-4261-ca9a-9b247e5e4601"
      },
      "execution_count": 28,
      "outputs": [
        {
          "output_type": "execute_result",
          "data": {
            "text/plain": [
              "      Predicted          real\n",
              "0  15657.217773  14833.753906\n",
              "1  14703.906250  15479.595703\n",
              "2  15371.144531  15332.350586\n",
              "3  15124.586914  15290.909180\n",
              "4  15129.779297  15701.298828"
            ],
            "text/html": [
              "\n",
              "  <div id=\"df-70f29d21-6016-4659-957c-23e6cc9870d2\" class=\"colab-df-container\">\n",
              "    <div>\n",
              "<style scoped>\n",
              "    .dataframe tbody tr th:only-of-type {\n",
              "        vertical-align: middle;\n",
              "    }\n",
              "\n",
              "    .dataframe tbody tr th {\n",
              "        vertical-align: top;\n",
              "    }\n",
              "\n",
              "    .dataframe thead th {\n",
              "        text-align: right;\n",
              "    }\n",
              "</style>\n",
              "<table border=\"1\" class=\"dataframe\">\n",
              "  <thead>\n",
              "    <tr style=\"text-align: right;\">\n",
              "      <th></th>\n",
              "      <th>Predicted</th>\n",
              "      <th>real</th>\n",
              "    </tr>\n",
              "  </thead>\n",
              "  <tbody>\n",
              "    <tr>\n",
              "      <th>0</th>\n",
              "      <td>15657.217773</td>\n",
              "      <td>14833.753906</td>\n",
              "    </tr>\n",
              "    <tr>\n",
              "      <th>1</th>\n",
              "      <td>14703.906250</td>\n",
              "      <td>15479.595703</td>\n",
              "    </tr>\n",
              "    <tr>\n",
              "      <th>2</th>\n",
              "      <td>15371.144531</td>\n",
              "      <td>15332.350586</td>\n",
              "    </tr>\n",
              "    <tr>\n",
              "      <th>3</th>\n",
              "      <td>15124.586914</td>\n",
              "      <td>15290.909180</td>\n",
              "    </tr>\n",
              "    <tr>\n",
              "      <th>4</th>\n",
              "      <td>15129.779297</td>\n",
              "      <td>15701.298828</td>\n",
              "    </tr>\n",
              "  </tbody>\n",
              "</table>\n",
              "</div>\n",
              "    <div class=\"colab-df-buttons\">\n",
              "\n",
              "  <div class=\"colab-df-container\">\n",
              "    <button class=\"colab-df-convert\" onclick=\"convertToInteractive('df-70f29d21-6016-4659-957c-23e6cc9870d2')\"\n",
              "            title=\"Convert this dataframe to an interactive table.\"\n",
              "            style=\"display:none;\">\n",
              "\n",
              "  <svg xmlns=\"http://www.w3.org/2000/svg\" height=\"24px\" viewBox=\"0 -960 960 960\">\n",
              "    <path d=\"M120-120v-720h720v720H120Zm60-500h600v-160H180v160Zm220 220h160v-160H400v160Zm0 220h160v-160H400v160ZM180-400h160v-160H180v160Zm440 0h160v-160H620v160ZM180-180h160v-160H180v160Zm440 0h160v-160H620v160Z\"/>\n",
              "  </svg>\n",
              "    </button>\n",
              "\n",
              "  <style>\n",
              "    .colab-df-container {\n",
              "      display:flex;\n",
              "      gap: 12px;\n",
              "    }\n",
              "\n",
              "    .colab-df-convert {\n",
              "      background-color: #E8F0FE;\n",
              "      border: none;\n",
              "      border-radius: 50%;\n",
              "      cursor: pointer;\n",
              "      display: none;\n",
              "      fill: #1967D2;\n",
              "      height: 32px;\n",
              "      padding: 0 0 0 0;\n",
              "      width: 32px;\n",
              "    }\n",
              "\n",
              "    .colab-df-convert:hover {\n",
              "      background-color: #E2EBFA;\n",
              "      box-shadow: 0px 1px 2px rgba(60, 64, 67, 0.3), 0px 1px 3px 1px rgba(60, 64, 67, 0.15);\n",
              "      fill: #174EA6;\n",
              "    }\n",
              "\n",
              "    .colab-df-buttons div {\n",
              "      margin-bottom: 4px;\n",
              "    }\n",
              "\n",
              "    [theme=dark] .colab-df-convert {\n",
              "      background-color: #3B4455;\n",
              "      fill: #D2E3FC;\n",
              "    }\n",
              "\n",
              "    [theme=dark] .colab-df-convert:hover {\n",
              "      background-color: #434B5C;\n",
              "      box-shadow: 0px 1px 3px 1px rgba(0, 0, 0, 0.15);\n",
              "      filter: drop-shadow(0px 1px 2px rgba(0, 0, 0, 0.3));\n",
              "      fill: #FFFFFF;\n",
              "    }\n",
              "  </style>\n",
              "\n",
              "    <script>\n",
              "      const buttonEl =\n",
              "        document.querySelector('#df-70f29d21-6016-4659-957c-23e6cc9870d2 button.colab-df-convert');\n",
              "      buttonEl.style.display =\n",
              "        google.colab.kernel.accessAllowed ? 'block' : 'none';\n",
              "\n",
              "      async function convertToInteractive(key) {\n",
              "        const element = document.querySelector('#df-70f29d21-6016-4659-957c-23e6cc9870d2');\n",
              "        const dataTable =\n",
              "          await google.colab.kernel.invokeFunction('convertToInteractive',\n",
              "                                                    [key], {});\n",
              "        if (!dataTable) return;\n",
              "\n",
              "        const docLinkHtml = 'Like what you see? Visit the ' +\n",
              "          '<a target=\"_blank\" href=https://colab.research.google.com/notebooks/data_table.ipynb>data table notebook</a>'\n",
              "          + ' to learn more about interactive tables.';\n",
              "        element.innerHTML = '';\n",
              "        dataTable['output_type'] = 'display_data';\n",
              "        await google.colab.output.renderOutput(dataTable, element);\n",
              "        const docLink = document.createElement('div');\n",
              "        docLink.innerHTML = docLinkHtml;\n",
              "        element.appendChild(docLink);\n",
              "      }\n",
              "    </script>\n",
              "  </div>\n",
              "\n",
              "\n",
              "<div id=\"df-58e228bd-e657-4cb7-babe-e17ef090b1db\">\n",
              "  <button class=\"colab-df-quickchart\" onclick=\"quickchart('df-58e228bd-e657-4cb7-babe-e17ef090b1db')\"\n",
              "            title=\"Suggest charts.\"\n",
              "            style=\"display:none;\">\n",
              "\n",
              "<svg xmlns=\"http://www.w3.org/2000/svg\" height=\"24px\"viewBox=\"0 0 24 24\"\n",
              "     width=\"24px\">\n",
              "    <g>\n",
              "        <path d=\"M19 3H5c-1.1 0-2 .9-2 2v14c0 1.1.9 2 2 2h14c1.1 0 2-.9 2-2V5c0-1.1-.9-2-2-2zM9 17H7v-7h2v7zm4 0h-2V7h2v10zm4 0h-2v-4h2v4z\"/>\n",
              "    </g>\n",
              "</svg>\n",
              "  </button>\n",
              "\n",
              "<style>\n",
              "  .colab-df-quickchart {\n",
              "    background-color: #E8F0FE;\n",
              "    border: none;\n",
              "    border-radius: 50%;\n",
              "    cursor: pointer;\n",
              "    display: none;\n",
              "    fill: #1967D2;\n",
              "    height: 32px;\n",
              "    padding: 0 0 0 0;\n",
              "    width: 32px;\n",
              "  }\n",
              "\n",
              "  .colab-df-quickchart:hover {\n",
              "    background-color: #E2EBFA;\n",
              "    box-shadow: 0px 1px 2px rgba(60, 64, 67, 0.3), 0px 1px 3px 1px rgba(60, 64, 67, 0.15);\n",
              "    fill: #174EA6;\n",
              "  }\n",
              "\n",
              "  [theme=dark] .colab-df-quickchart {\n",
              "    background-color: #3B4455;\n",
              "    fill: #D2E3FC;\n",
              "  }\n",
              "\n",
              "  [theme=dark] .colab-df-quickchart:hover {\n",
              "    background-color: #434B5C;\n",
              "    box-shadow: 0px 1px 3px 1px rgba(0, 0, 0, 0.15);\n",
              "    filter: drop-shadow(0px 1px 2px rgba(0, 0, 0, 0.3));\n",
              "    fill: #FFFFFF;\n",
              "  }\n",
              "</style>\n",
              "\n",
              "  <script>\n",
              "    async function quickchart(key) {\n",
              "      const charts = await google.colab.kernel.invokeFunction(\n",
              "          'suggestCharts', [key], {});\n",
              "    }\n",
              "    (() => {\n",
              "      let quickchartButtonEl =\n",
              "        document.querySelector('#df-58e228bd-e657-4cb7-babe-e17ef090b1db button');\n",
              "      quickchartButtonEl.style.display =\n",
              "        google.colab.kernel.accessAllowed ? 'block' : 'none';\n",
              "    })();\n",
              "  </script>\n",
              "</div>\n",
              "    </div>\n",
              "  </div>\n"
            ]
          },
          "metadata": {},
          "execution_count": 28
        }
      ]
    },
    {
      "cell_type": "code",
      "source": [
        "#test\n",
        "Answer2.plot(title=\"outcome\", figsize=(10,5));"
      ],
      "metadata": {
        "colab": {
          "base_uri": "https://localhost:8080/",
          "height": 468
        },
        "id": "ZT-5IOzmFpgk",
        "outputId": "e6708062-f4a6-4f44-da5c-a68e73ad45dd"
      },
      "execution_count": 29,
      "outputs": [
        {
          "output_type": "display_data",
          "data": {
            "text/plain": [
              "<Figure size 1000x500 with 1 Axes>"
            ],
            "image/png": "[encoded data removed]"
          },
          "metadata": {}
        }
      ]
    },
    {
      "cell_type": "code",
      "source": [
        "model.evaluate(test_x, test_y)"
      ],
      "metadata": {
        "colab": {
          "base_uri": "https://localhost:8080/"
        },
        "id": "NRgnftLMFwPG",
        "outputId": "12c64db0-a75f-4b24-cfe7-d031436398ab"
      },
      "execution_count": 30,
      "outputs": [
        {
          "output_type": "stream",
          "name": "stdout",
          "text": [
            "1/1 [==============================] - 1s 684ms/step - loss: 0.0036\n"
          ]
        },
        {
          "output_type": "execute_result",
          "data": {
            "text/plain": [
              "0.0035513038747012615"
            ]
          },
          "metadata": {},
          "execution_count": 30
        }
      ]
    },
    {
      "cell_type": "code",
      "source": [
        "train_score = math.sqrt(mean_squared_error(trainy.reshape(-1),predict_train))\n",
        "print('rmse ', train_score)\n",
        "test_score = math.sqrt(mean_squared_error(test_y.reshape(-1),predict_test))\n",
        "print('rmse ', test_score)"
      ],
      "metadata": {
        "colab": {
          "base_uri": "https://localhost:8080/"
        },
        "id": "uxTB2L0EFyrQ",
        "outputId": "4461a47e-ee90-4fba-8a63-accaa0f2fbeb"
      },
      "execution_count": 31,
      "outputs": [
        {
          "output_type": "stream",
          "name": "stdout",
          "text": [
            "rmse  611.1436522577067\n",
            "rmse  17101.620927157564\n"
          ]
        }
      ]
    },
    {
      "cell_type": "code",
      "source": [
        "test_x.shape , test_y.shape"
      ],
      "metadata": {
        "colab": {
          "base_uri": "https://localhost:8080/"
        },
        "id": "tNHvAkb1F09u",
        "outputId": "fa16d0ea-e3bc-481a-9433-e079cbd51bf1"
      },
      "execution_count": 32,
      "outputs": [
        {
          "output_type": "execute_result",
          "data": {
            "text/plain": [
              "((31, 5, 1), (31,))"
            ]
          },
          "metadata": {},
          "execution_count": 32
        }
      ]
    },
    {
      "cell_type": "code",
      "source": [
        "test_ = array([0.0272989,  0.03199121, 0.03083671, 0.02082067, 0.03542986])\n",
        "test_ = test_.reshape(1,n_steps,n_features)\n",
        "test_.shape\n"
      ],
      "metadata": {
        "colab": {
          "base_uri": "https://localhost:8080/"
        },
        "id": "-c9adakoF3UM",
        "outputId": "deba32ff-896d-4fb1-a3e8-0550824c57c1"
      },
      "execution_count": 33,
      "outputs": [
        {
          "output_type": "execute_result",
          "data": {
            "text/plain": [
              "(1, 5, 1)"
            ]
          },
          "metadata": {},
          "execution_count": 33
        }
      ]
    },
    {
      "cell_type": "code",
      "source": [
        "y_hat = model.predict(test_)\n",
        "y_hat"
      ],
      "metadata": {
        "colab": {
          "base_uri": "https://localhost:8080/"
        },
        "id": "jDeg50g6F6Pm",
        "outputId": "c44e5472-acd2-4f21-ed88-311e51a0395d"
      },
      "execution_count": 34,
      "outputs": [
        {
          "output_type": "stream",
          "name": "stdout",
          "text": [
            "1/1 [==============================] - 0s 181ms/step\n"
          ]
        },
        {
          "output_type": "execute_result",
          "data": {
            "text/plain": [
              "array([[0.0922686]], dtype=float32)"
            ]
          },
          "metadata": {},
          "execution_count": 34
        }
      ]
    },
    {
      "cell_type": "code",
      "source": [
        "y_hat = scaler.inverse_transform(y_hat)\n",
        "y_hat"
      ],
      "metadata": {
        "colab": {
          "base_uri": "https://localhost:8080/"
        },
        "id": "CRYBYH4uF82v",
        "outputId": "b87a079c-81a4-421d-ee92-030f8bb3f59a"
      },
      "execution_count": 35,
      "outputs": [
        {
          "output_type": "execute_result",
          "data": {
            "text/plain": [
              "array([[6352.5776]], dtype=float32)"
            ]
          },
          "metadata": {},
          "execution_count": 35
        }
      ]
    },
    {
      "cell_type": "code",
      "source": [],
      "metadata": {
        "id": "crmK02QYF_bO"
      },
      "execution_count": null,
      "outputs": []
    }
  ]
}